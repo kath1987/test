{
 "cells": [
  {
   "cell_type": "code",
   "execution_count": 21,
   "id": "3929244f-4fbd-4f63-adda-20582f30a6a0",
   "metadata": {},
   "outputs": [
    {
     "name": "stdout",
     "output_type": "stream",
     "text": [
      "Overwriting Saludo.cpp\n"
     ]
    }
   ],
   "source": [
    "%%writefile Saludo.cpp\n",
    "\n",
    "#include <iostream>\n",
    "#include <string>\n",
    "using namespace std;\n",
    "\n",
    "int main(){\n",
    "    string name;\n",
    "\n",
    "    cout << \"Hola, ¿cómo te llamas? \";\n",
    "    getline(cin, name);\n",
    "    cout << \"Hola!! \" << name << endl;\n",
    "\n",
    "    return 0;\n",
    "}\n"
   ]
  },
  {
   "cell_type": "code",
   "execution_count": 20,
   "id": "25a004bf-d41a-49e0-a61a-d64ff46774c1",
   "metadata": {},
   "outputs": [
    {
     "name": "stdout",
     "output_type": "stream",
     "text": [
      "Writing Ejercicio3.cpp\n"
     ]
    }
   ],
   "source": [
    "%%writefile Ejercicio3.cpp\n",
    "\n",
    "#include <iostream>\n",
    "using namespace std;\n",
    "\n",
    "int main() {\n",
    "    float largo, ancho, area;\n",
    "\n",
    "    // Solicitar al usuario el largo y el ancho de la habitación\n",
    "    cout << \"Ingrese el largo de la habitación en metros: \";\n",
    "    cin >> largo;\n",
    "\n",
    "    cout << \"Ingrese el ancho de la habitación en metros: \";\n",
    "    cin >> ancho;\n",
    "\n",
    "    // Calcular el área\n",
    "    area = largo * ancho;\n",
    "\n",
    "    // Mostrar el resultado con la unidad\n",
    "    cout << \"El área de la habitación es \" << area << \" metros cuadrados.\" << endl;\n",
    "\n",
    "    return 0;\n",
    "}\n"
   ]
  },
  {
   "cell_type": "code",
   "execution_count": 23,
   "id": "d7c8f820-9124-4938-80e5-5715ea482e03",
   "metadata": {},
   "outputs": [
    {
     "name": "stdout",
     "output_type": "stream",
     "text": [
      "Overwriting Ejercicio4.cpp\n"
     ]
    }
   ],
   "source": [
    "%%writefile Ejercicio4.cpp\n",
    "\n",
    "#include <iostream>\n",
    "using namespace std;\n",
    "\n",
    "int main(){\n",
    "\n",
    "    float largo, ancho, area_pies, area_acres;\n",
    "\n",
    "    // Solicitar al usuario el largo y el ancho del campo en pies\n",
    "    cout << \"Ingrese el largo del campo en pies: \";\n",
    "    cin >> largo;\n",
    "    cout << \"Ingrese el ancho del campo en pies: \";\n",
    "    cin >> ancho;\n",
    "\n",
    "    // Calcular el área en pies cuadrados\n",
    "    area_pies = largo * ancho;\n",
    "\n",
    "    // Convertir el área a acres (1 acre = 43,560 pies cuadrados)\n",
    "    area_acres = area_pies / 43560;\n",
    "\n",
    "    // Mostrar el área en acres\n",
    "    cout << \"El área del campo es \" << area_acres << \" acres.\" << endl;\n",
    "\n",
    "    return 0;\n",
    "}"
   ]
  },
  {
   "cell_type": "code",
   "execution_count": 25,
   "id": "45b71b82-43ca-4545-8a2d-2c37eb8c7070",
   "metadata": {},
   "outputs": [
    {
     "name": "stdout",
     "output_type": "stream",
     "text": [
      "Overwriting Ejercicio1.cpp\n"
     ]
    }
   ],
   "source": [
    "%%writefile Ejercicio1.cpp\n",
    "\n",
    "#include <iostream>\n",
    "using namespace std;\n",
    "\n",
    "int main() {\n",
    "    // Nombre y apellido del usuario en el código fuente\n",
    "    cout << \"Nombre: Katerine \" << endl;\n",
    "    cout << \"Apellido: Rafael \" << endl;\n",
    "\n",
    "    return 0;\n",
    "}\n"
   ]
  },
  {
   "cell_type": "code",
   "execution_count": null,
   "id": "aaa90e71-a451-403d-b14f-d97839febc4f",
   "metadata": {},
   "outputs": [],
   "source": []
  }
 ],
 "metadata": {
  "kernelspec": {
   "display_name": "Python 3 (ipykernel)",
   "language": "python",
   "name": "python3"
  },
  "language_info": {
   "codemirror_mode": {
    "name": "ipython",
    "version": 3
   },
   "file_extension": ".py",
   "mimetype": "text/x-python",
   "name": "python",
   "nbconvert_exporter": "python",
   "pygments_lexer": "ipython3",
   "version": "3.10.12"
  }
 },
 "nbformat": 4,
 "nbformat_minor": 5
}
