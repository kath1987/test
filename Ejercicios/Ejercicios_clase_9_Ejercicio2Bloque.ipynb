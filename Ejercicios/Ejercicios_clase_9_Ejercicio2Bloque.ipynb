{
 "cells": [
  {
   "cell_type": "code",
   "execution_count": 41,
   "id": "112580fa-7489-47ed-ad2d-06e7cbe2e02a",
   "metadata": {},
   "outputs": [
    {
     "ename": "SyntaxError",
     "evalue": "invalid character '—' (U+2014) (792501946.py, line 2)",
     "output_type": "error",
     "traceback": [
      "\u001b[0;36m  Cell \u001b[0;32mIn[41], line 2\u001b[0;36m\u001b[0m\n\u001b[0;31m    (Resuelto— Líneas) El programa que crees para este ejercicio comenzará leyendo el costo de una comida ordenada en un restaurante del\u001b[0m\n\u001b[0m             ^\u001b[0m\n\u001b[0;31mSyntaxError\u001b[0m\u001b[0;31m:\u001b[0m invalid character '—' (U+2014)\n"
     ]
    }
   ],
   "source": [
    "Ejercicio 6: Impuestos y Propina\n",
    "(Resuelto— Líneas) El programa que crees para este ejercicio comenzará leyendo el costo de una comida ordenada en un restaurante del \n",
    "usuario. Luego, tu programa calculará el impuesto y la propina para la comida. Usa tu tasa de impuesto local al calcular la cantidad \n",
    "de impuesto adeudado. Calcula la propina como el 18 por ciento del monto de la comida (sin el impuesto). \n",
    "La salida de tu programa debe incluir el monto del impuesto, el monto de la propina y el gran total para la comida, \n",
    "incluyendo tanto el impuesto como la propina. Formatea la salida para que todos los valores se muestren usando dos decimales.\n",
    "\n",
    "________________________________________\n",
    "Ejercicio 7: Suma de los Primeros n Enteros Positivos\n",
    "(Resuelto— Líneas) Escribe un programa que lea un entero positivo, n, del usuario y luego muestre la suma de todos los enteros de \n",
    "1 a n. La suma de los primeros n enteros positivos se puede calcular usando la fórmula: sum = (n)(n + 1) / 2\n",
    "\n",
    "________________________________________\n",
    "Ejercicio 8: Widgets y Gizmos\n",
    "Un minorista en línea vende dos productos: widgets y gizmos. Cada widget pesa 75 gramos. Cada gizmo pesa 112 gramos. \n",
    "Escribe un programa que lea el número de widgets y el número de gizmos en un pedido del usuario. Luego, tu programa debe calcular \n",
    "y mostrar el peso total del pedido.\n",
    "________________________________________\n",
    "Ejercicio 9: Interés Compuesto\n",
    "(15 Líneas) Imagina que acabas de abrir una cuenta de ahorros que gana 4 por ciento de interés al año. El interés que ganas se paga \n",
    "al final del año, y el interés se agrega al saldo de la cuenta. Escribe un programa que comience leyendo la cantidad de dinero \n",
    "depositada en la cuenta del usuario. Luego, tu programa debe calcular y mostrar el saldo de la cuenta después del primer, segundo \n",
    "y tercer año.\n",
    "\n",
    "________________________________________\n",
    "Ejercicio 10: Aritmética\n",
    "(Resuelto—14 Líneas) Crea un programa que lea dos enteros, a y b, del usuario. Tu programa debe calcular y mostrar:\n",
    "•\tLa suma de a y b\n",
    "•\tLa diferencia cuando b se resta de a\n",
    "•\tEl producto de a y b\n",
    "•\tEl cociente cuando a se divide entre b\n",
    "•\tEl resto cuando a se divide entre b\n",
    "•\tEl resultado de log10 a\n",
    "•\tEl resultado de a b.\n",
    "\n",
    "________________________________________\n",
    "Ejercicio 11: Eficiencia de Combustible\n",
    "En los Estados Unidos, la eficiencia de combustible para los vehículos normalmente se expresa en millas por galón (MPG). \n",
    "En Canadá, la eficiencia de combustible normalmente se expresa en litros por cada 100 kilómetros (L/100km). \n",
    "Usa tus habilidades de investigación para determinar cómo convertir de MPG a L/100km. Luego, crea un programa que lea un valor \n",
    "del usuario en unidades estadounidenses y muestre la eficiencia de combustible equivalente en unidades canadienses.\n",
    "\n",
    "________________________________________\n",
    "Ejercicio 12: Distancia Entre Dos Puntos en la Tierra\n",
    "Python: No tiene solución en el material fuente. Se sugiere: Usar la fórmula de haversine para calcular la distancia entre dos \n",
    "coordenadas (latitud y longitud, en grados).\n",
    "\n",
    "________________________________________\n",
    "Ejercicio 13: Haciendo Cambio\n",
    " Considera la cantidad de monedas que se necesitarían para hacer cambio para una cantidad específica de dinero. \n",
    "El dinero siempre debe dispensarse usando la menor cantidad de monedas posible. \n",
    "Asume que hay monedas de 25¢, 10¢, 5¢ y 1¢ disponibles. Escribe un programa que lea una cantidad de dinero del usuario. \n",
    "Luego, tu programa debe mostrar la cantidad mínima de monedas de cada tipo que se usarían para hacer cambio para esa cantidad. \n",
    "Imprime la cantidad de cada moneda en su propia línea, con la información ordenada de la moneda de mayor valor a la de menor valor.\n",
    "\n",
    "________________________________________\n",
    "Ejercicio 14: Unidades de Altura\n",
    "Muchas personas piensan en su altura en pies y pulgadas, incluso en algunos países que utilizan principalmente el sistema métrico. \n",
    "Escribe un programa que lea un número de pies del usuario, seguido de un número de pulgadas. \n",
    "Una vez que se lean estos valores, tu programa debe calcular y mostrar el número equivalente de centímetros.\n",
    "\n",
    "_____________________________________\n",
    "Ejercicio 15: Unidades de Distancia\n",
    "En este ejercicio, crearás un programa que comience leyendo una medida en pies del usuario. Luego, tu programa debe mostrar \n",
    "la distancia equivalente en pulgadas, yardas y millas. Usa Internet para buscar los factores de conversión necesarios si no \n",
    "los tienes memorizados.\n",
    "\n",
    "________________________________________\n",
    "Ejercicio 16: Área y Volumen\n",
    "( Líneas) Escribe un programa que comience leyendo un radio, r, del usuario. El programa continuará calculando y mostrando el área de \n",
    "un círculo con radio r y el volumen de una esfera con radio r. Usa la constante pi en el módulo math en tus cálculos.\n",
    "Pista: El área de un círculo se calcula usando la fórmula area = πr2. El volumen de una esfera se calcula usando \n",
    "la fórmula volume = (4/3)πr3.\n",
    "________________________________________\n",
    "Ejercicio 17: Capacidad de Calor\n",
    "La cantidad de energía requerida para aumentar la temperatura de un gramo de un material en un grado Celsius es la capacidad de calor \n",
    "específica del material, C. La cantidad total de energía requerida para elevar m gramos de un material en ΔT grados Celsius se puede \n",
    "calcular usando la fórmula: Q = mCΔT. Escribe un programa que lea la masa de agua y el cambio de temperatura del usuario. Tu programa \n",
    "debe mostrar la cantidad total de energía que se necesita para calentar el agua.\n",
    "Pista: El calor específico del agua es 4.186 J/g°C. Debido a que el agua se está calentando, y no cambiando de estado, no necesitas \n",
    "preocuparte por su calor latente.Extiende tu programa para calcular el costo de calentar el agua eléctricamente. El programa asumirá \n",
    "que tu compañía eléctrica cobra $0.085 por kilovatio-hora. Usa tu programa para calcular el costo de hervir un litro de agua.\n",
    "Pista: Necesitarás buscar el factor para convertir entre Julios y kilovatios-hora para completar la última parte de este ejercicio.\n",
    "\n",
    "________________________________________\n",
    "Ejercicio 18: Volumen de un Cilindro\n",
    "( Líneas) El volumen de un cilindro se puede calcular multiplicando el área de su base circular por su altura. Escribe un programa que \n",
    "lea el radio del cilindro, junto con su altura, del usuario y calcule su volumen. Muestra el resultado redondeado a un decimal.\n",
    "\n",
    "________________________________________\n",
    "Ejercicio 19: Caída Libre\n",
    "(Resuelto— Líneas) Crea un programa que determine qué tan rápido viaja un objeto cuando golpea el suelo. El usuario ingresará la \n",
    "altura desde la cual se deja caer el objeto en metros (m). Debido a que el objeto se deja caer, su velocidad inicial es de 0 m/s. \n",
    "Asume que la aceleración.\n",
    "\n",
    "________________________________________\n",
    "Ejercicio 20: Ley de los Gases Ideales\n",
    ") La ley de los gases ideales es una aproximación matemática de la relación entre la presión, el volumen, la temperatura y la cantidad \n",
    "de gas. Se establece como: PV = nRT donde P es la presión en Pascales, V es el volumen en litros, n es la cantidad de sustancia en \n",
    "moles, R es la constante de los gases ideales, igual a 8.314 J/mol K, y T es la temperatura en grados Kelvin.\n",
    "Escribe un programa que calcule la cantidad de gas en moles cuando el usuario suministra la presión, el volumen y la temperatura.\n",
    "\n",
    "\n"
   ]
  },
  {
   "cell_type": "code",
   "execution_count": 6,
   "id": "9106f1b4-71b9-4600-8894-8e733894ba37",
   "metadata": {},
   "outputs": [
    {
     "name": "stdout",
     "output_type": "stream",
     "text": [
      "Overwriting ejercicio6.cpp\n"
     ]
    }
   ],
   "source": [
    "%%writefile ejercicio6.cpp\n",
    "\n",
    "#include <iostream>\n",
    "#include <iomanip>  // Para establecer el formato de salida con dos decimales\n",
    "\n",
    "using namespace std;\n",
    "\n",
    "int main() {\n",
    "    // Solicitar al usuario el costo de la comida\n",
    "    double costo_comida;\n",
    "    cout << \"Ingrese el costo de la comida: \";\n",
    "    cin >> costo_comida;\n",
    "\n",
    "    // Definir la tasa de impuesto (por ejemplo, 10% como tasa local)\n",
    "    double tasa_impuesto = 0.10;  // Esto puede variar dependiendo de tu ubicación\n",
    "\n",
    "    // Calcular el monto del impuesto\n",
    "    double impuesto = costo_comida * tasa_impuesto;\n",
    "\n",
    "    // Calcular la propina como el 18% del costo de la comida sin el impuesto\n",
    "    double propina = costo_comida * 0.18;\n",
    "\n",
    "    // Calcular el gran total (costo de la comida + impuesto + propina)\n",
    "    double gran_total = costo_comida + impuesto + propina;\n",
    "\n",
    "    // Mostrar los resultados con dos decimales\n",
    "    cout << fixed << setprecision(2);  // Establece la salida con dos decimales\n",
    "    cout << \"\\nMonto del impuesto: $\" << impuesto << endl;\n",
    "    cout << \"Monto de la propina: $\" << propina << endl;\n",
    "    cout << \"Gran total: $\" << gran_total << endl;\n",
    "\n",
    "    return 0;\n",
    "}\n",
    "\n"
   ]
  },
  {
   "cell_type": "code",
   "execution_count": 7,
   "id": "922ddfb4-c6ab-4f58-9325-ffc449068a4a",
   "metadata": {},
   "outputs": [],
   "source": [
    "!g++ ejercicio6.cpp -o ejercicio6"
   ]
  },
  {
   "cell_type": "code",
   "execution_count": 9,
   "id": "dd3eb220-3d0e-4370-bd25-78bf912c3a4c",
   "metadata": {},
   "outputs": [
    {
     "name": "stdout",
     "output_type": "stream",
     "text": [
      "Writing ejercicio7.cpp\n"
     ]
    }
   ],
   "source": [
    "%%writefile ejercicio7.cpp\n",
    "\n",
    "#include <iostream>\n",
    "\n",
    "using namespace std;\n",
    "\n",
    "int main() {\n",
    "    // Solicitar al usuario un entero positivo\n",
    "    int n;\n",
    "    cout << \"Ingrese un numero entero positivo (n): \";\n",
    "    cin >> n;\n",
    "\n",
    "    // Validar que n sea positivo\n",
    "    if (n <= 0) {\n",
    "        cout << \"Por favor, ingrese un numero entero positivo.\" << endl;\n",
    "        return 1; // Termina el programa si la entrada no es válida\n",
    "    }\n",
    "\n",
    "    // Calcular la suma de los primeros n enteros positivos usando la fórmula\n",
    "    int suma = (n * (n + 1)) / 2;\n",
    "\n",
    "    // Mostrar el resultado\n",
    "    cout << \"La suma de los primeros \" << n << \" enteros positivos es: \" << suma << endl;\n",
    "\n",
    "    return 0;\n",
    "}\n"
   ]
  },
  {
   "cell_type": "code",
   "execution_count": 10,
   "id": "00204caf-9661-426e-b000-182ad485e0ba",
   "metadata": {},
   "outputs": [],
   "source": [
    "!g++ ejercicio7.cpp -o ejercicio7"
   ]
  },
  {
   "cell_type": "code",
   "execution_count": 11,
   "id": "9e6c92ba-dceb-4fd2-9efa-ebc091eb363b",
   "metadata": {},
   "outputs": [
    {
     "name": "stdout",
     "output_type": "stream",
     "text": [
      "Writing ejercicio8.cpp\n"
     ]
    }
   ],
   "source": [
    "%%writefile ejercicio8.cpp\n",
    "\n",
    "#include <iostream>\n",
    "\n",
    "using namespace std;\n",
    "\n",
    "int main() {\n",
    "    // Definir el peso de los productos\n",
    "    const int peso_widget = 75;  // en gramos\n",
    "    const int peso_gizmo = 112;  // en gramos\n",
    "\n",
    "    // Solicitar al usuario el número de widgets y gizmos\n",
    "    int num_widgets, num_gizmos;\n",
    "    cout << \"Ingrese el número de widgets en el pedido: \";\n",
    "    cin >> num_widgets;\n",
    "    cout << \"Ingrese el número de gizmos en el pedido: \";\n",
    "    cin >> num_gizmos;\n",
    "\n",
    "    // Calcular el peso total del pedido\n",
    "    int peso_total = (num_widgets * peso_widget) + (num_gizmos * peso_gizmo);\n",
    "\n",
    "    // Mostrar el peso total\n",
    "    cout << \"El peso total del pedido es: \" << peso_total << \" gramos.\" << endl;\n",
    "\n",
    "    return 0;\n",
    "}\n"
   ]
  },
  {
   "cell_type": "code",
   "execution_count": 12,
   "id": "d83a8376-ff64-44a9-a232-6d0c9d2e8e31",
   "metadata": {},
   "outputs": [],
   "source": [
    "!g++ ejercicio8.cpp -o ejercicio8"
   ]
  },
  {
   "cell_type": "code",
   "execution_count": 13,
   "id": "af11a4b4-a4cb-4d6c-8a6b-18cf5b12f342",
   "metadata": {},
   "outputs": [
    {
     "name": "stdout",
     "output_type": "stream",
     "text": [
      "Writing ejercicio9.cpp\n"
     ]
    }
   ],
   "source": [
    "%%writefile ejercicio9.cpp\n",
    "\n",
    "#include <iostream>\n",
    "#include <iomanip> // Para establecer el formato de salida con dos decimales\n",
    "\n",
    "using namespace std;\n",
    "\n",
    "int main() {\n",
    "    // Solicitar al usuario el monto inicial depositado en la cuenta\n",
    "    double saldo_inicial;\n",
    "    cout << \"Ingrese el monto inicial depositado en la cuenta: \";\n",
    "    cin >> saldo_inicial;\n",
    "\n",
    "    // Definir la tasa de interés anual (4%)\n",
    "    const double tasa_interes = 0.04;\n",
    "\n",
    "    // Calcular el saldo después de cada año\n",
    "    double saldo_1er_ano = saldo_inicial * (1 + tasa_interes);\n",
    "    double saldo_2do_ano = saldo_1er_ano * (1 + tasa_interes);\n",
    "    double saldo_3er_ano = saldo_2do_ano * (1 + tasa_interes);\n",
    "\n",
    "    // Mostrar el saldo después de cada año con 2 decimales\n",
    "    cout << fixed << setprecision(2); // Establece la salida con 2 decimales\n",
    "    cout << \"Saldo después del primer año: $\" << saldo_1er_ano << endl;\n",
    "    cout << \"Saldo después del segundo año: $\" << saldo_2do_ano << endl;\n",
    "    cout << \"Saldo después del tercer año: $\" << saldo_3er_ano << endl;\n",
    "\n",
    "    return 0;\n",
    "}\n"
   ]
  },
  {
   "cell_type": "code",
   "execution_count": 14,
   "id": "4f41256d-57d1-4048-958b-53c526395629",
   "metadata": {},
   "outputs": [],
   "source": [
    "!g++ ejercicio9.cpp -o ejercicio9"
   ]
  },
  {
   "cell_type": "code",
   "execution_count": 15,
   "id": "e55af2fb-fd6d-49cb-89f2-7cfab60bb518",
   "metadata": {},
   "outputs": [
    {
     "name": "stdout",
     "output_type": "stream",
     "text": [
      "Writing ejercicio10.cpp\n"
     ]
    }
   ],
   "source": [
    "%%writefile ejercicio10.cpp\n",
    "\n",
    "#include <iostream>\n",
    "#include <cmath>  // Para usar log10 y potencia\n",
    "\n",
    "using namespace std;\n",
    "\n",
    "int main() {\n",
    "    // Solicitar al usuario los dos enteros\n",
    "    int a, b;\n",
    "    cout << \"Ingrese el valor de a: \";\n",
    "    cin >> a;\n",
    "    cout << \"Ingrese el valor de b: \";\n",
    "    cin >> b;\n",
    "\n",
    "    // Calcular y mostrar las operaciones\n",
    "    cout << \"La suma de a y b: \" << a + b << endl;\n",
    "    cout << \"La diferencia cuando b se resta de a: \" << a - b << endl;\n",
    "    cout << \"El producto de a y b: \" << a * b << endl;\n",
    "    cout << \"El cociente cuando a se divide entre b: \" << a / b << endl;\n",
    "    cout << \"El resto cuando a se divide entre b: \" << a % b << endl;\n",
    "    cout << \"El resultado de log10 de a: \" << log10(a) << endl;\n",
    "    cout << \"El resultado de a elevado a la b (a^b): \" << pow(a, b) << endl;\n",
    "\n",
    "    return 0;\n",
    "}\n"
   ]
  },
  {
   "cell_type": "code",
   "execution_count": 16,
   "id": "354c61c8-4df6-4a68-895a-31e09392a762",
   "metadata": {},
   "outputs": [],
   "source": [
    "!g++ ejercicio10.cpp -o ejercicio10"
   ]
  },
  {
   "cell_type": "code",
   "execution_count": 17,
   "id": "dc0ad9f1-eb54-4b65-bf1e-6a3723026053",
   "metadata": {},
   "outputs": [
    {
     "name": "stdout",
     "output_type": "stream",
     "text": [
      "Writing ejercicio11.cpp\n"
     ]
    }
   ],
   "source": [
    "%%writefile ejercicio11.cpp\n",
    "\n",
    "#include <iostream>\n",
    "#include <iomanip> // Para formato de salida con decimales\n",
    "\n",
    "using namespace std;\n",
    "\n",
    "int main() {\n",
    "    // Solicitar al usuario la eficiencia de combustible en MPG\n",
    "    double mpg;\n",
    "    cout << \"Ingrese la eficiencia de combustible en millas por galón (MPG): \";\n",
    "    cin >> mpg;\n",
    "\n",
    "    // Convertir de MPG a L/100km\n",
    "    double l_per_100km = 235.214 / mpg;\n",
    "\n",
    "    // Mostrar el resultado\n",
    "    cout << fixed << setprecision(2); // Formato con dos decimales\n",
    "    cout << \"La eficiencia de combustible equivalente en L/100km es: \" << l_per_100km << endl;\n",
    "\n",
    "    return 0;\n",
    "}\n"
   ]
  },
  {
   "cell_type": "code",
   "execution_count": 18,
   "id": "8a6d1580-3964-47b2-b6a8-c5c33809dc9a",
   "metadata": {},
   "outputs": [],
   "source": [
    "!g++ ejercicio11.cpp -o ejercicio11"
   ]
  },
  {
   "cell_type": "code",
   "execution_count": 20,
   "id": "dc070530-a600-4406-a2ba-b18dd3a2817e",
   "metadata": {},
   "outputs": [
    {
     "name": "stdout",
     "output_type": "stream",
     "text": [
      "Overwriting ejercicio12.cpp\n"
     ]
    }
   ],
   "source": [
    "%%writefile ejercicio12.cpp\n",
    "\n",
    "#include <iostream>\n",
    "#include <cmath> // Para usar funciones trigonométricas y sqrt\n",
    "\n",
    "using namespace std;\n",
    "\n",
    "const double R = 6371.0; // Radio de la Tierra en km\n",
    "\n",
    "int main() {\n",
    "    double lat1, lon1, lat2, lon2;\n",
    "\n",
    "    // Solicitar al usuario las coordenadas de los dos puntos\n",
    "    cout << \"Ingrese la latitud y longitud del primer punto (en grados): \";\n",
    "    cin >> lat1 >> lon1;\n",
    "    cout << \"Ingrese la latitud y longitud del segundo punto (en grados): \";\n",
    "    cin >> lat2 >> lon2;\n",
    "\n",
    "    // Convertir grados a radianes\n",
    "    lat1 = lat1 * M_PI / 180.0;\n",
    "    lon1 = lon1 * M_PI / 180.0;\n",
    "    lat2 = lat2 * M_PI / 180.0;\n",
    "    lon2 = lon2 * M_PI / 180.0;\n",
    "\n",
    "    // Fórmula de Haversine\n",
    "    double dlat = lat2 - lat1;\n",
    "    double dlon = lon2 - lon1;\n",
    "    double a = sin(dlat / 2) * sin(dlat / 2) + cos(lat1) * cos(lat2) * sin(dlon / 2) * sin(dlon / 2);\n",
    "    double c = 2 * atan2(sqrt(a), sqrt(1 - a));\n",
    "    double distancia = R * c;\n",
    "\n",
    "    // Mostrar el resultado\n",
    "    cout << \"La distancia entre los dos puntos es: \" << distancia << \" km.\" << endl;\n",
    "\n",
    "    return 0;\n",
    "}\n",
    "\n"
   ]
  },
  {
   "cell_type": "code",
   "execution_count": 21,
   "id": "e8647686-c452-47a6-9a0d-341657697ac4",
   "metadata": {},
   "outputs": [],
   "source": [
    "!g++ ejercicio12.cpp -o ejercicio12"
   ]
  },
  {
   "cell_type": "code",
   "execution_count": 22,
   "id": "7006a6fe-b4a4-438b-935a-2630102e8691",
   "metadata": {},
   "outputs": [
    {
     "name": "stdout",
     "output_type": "stream",
     "text": [
      "Writing ejercicio13.cpp\n"
     ]
    }
   ],
   "source": [
    "%%writefile ejercicio13.cpp\n",
    "\n",
    "#include <iostream>\n",
    "\n",
    "using namespace std;\n",
    "\n",
    "int main() {\n",
    "    int cantidad;\n",
    "\n",
    "    // Solicitar al usuario la cantidad de dinero en centavos\n",
    "    cout << \"Ingrese la cantidad de dinero en centavos: \";\n",
    "    cin >> cantidad;\n",
    "\n",
    "    // Calcular la cantidad mínima de monedas\n",
    "    int monedas_25 = cantidad / 25;\n",
    "    cantidad %= 25;\n",
    "\n",
    "    int monedas_10 = cantidad / 10;\n",
    "    cantidad %= 10;\n",
    "\n",
    "    int monedas_5 = cantidad / 5;\n",
    "    cantidad %= 5;\n",
    "\n",
    "    int monedas_1 = cantidad; // Lo que queda son monedas de 1 centavo\n",
    "\n",
    "    // Mostrar el resultado\n",
    "    cout << \"Monedas de 25¢: \" << monedas_25 << endl;\n",
    "    cout << \"Monedas de 10¢: \" << monedas_10 << endl;\n",
    "    cout << \"Monedas de 5¢: \" << monedas_5 << endl;\n",
    "    cout << \"Monedas de 1¢: \" << monedas_1 << endl;\n",
    "\n",
    "    return 0;\n",
    "}\n",
    "\n"
   ]
  },
  {
   "cell_type": "code",
   "execution_count": 23,
   "id": "88c01889-dfce-4afe-a3f5-e17dc0873b00",
   "metadata": {},
   "outputs": [],
   "source": [
    "!g++ ejercicio13.cpp -o ejercicio13"
   ]
  },
  {
   "cell_type": "code",
   "execution_count": 24,
   "id": "654b131c-1bce-404e-9944-f158424e86de",
   "metadata": {},
   "outputs": [
    {
     "name": "stdout",
     "output_type": "stream",
     "text": [
      "Writing ejercicio14.cpp\n"
     ]
    }
   ],
   "source": [
    "%%writefile ejercicio14.cpp\n",
    "\n",
    "#include <iostream>\n",
    "\n",
    "using namespace std;\n",
    "\n",
    "int main() {\n",
    "    int pies, pulgadas;\n",
    "\n",
    "    // Solicitar al usuario la altura en pies y pulgadas\n",
    "    cout << \"Ingrese la cantidad de pies: \";\n",
    "    cin >> pies;\n",
    "    cout << \"Ingrese la cantidad de pulgadas: \";\n",
    "    cin >> pulgadas;\n",
    "\n",
    "    // Convertir a centímetros\n",
    "    double altura_cm = (pies * 30.48) + (pulgadas * 2.54);\n",
    "\n",
    "    // Mostrar el resultado\n",
    "    cout << \"La altura equivalente en centímetros es: \" << altura_cm << \" cm.\" << endl;\n",
    "\n",
    "    return 0;\n",
    "}\n"
   ]
  },
  {
   "cell_type": "code",
   "execution_count": 25,
   "id": "b4712fb3-9217-4b02-9288-52f3f72dc4f5",
   "metadata": {},
   "outputs": [],
   "source": [
    "!g++ ejercicio14.cpp -o ejercicio14"
   ]
  },
  {
   "cell_type": "code",
   "execution_count": 28,
   "id": "4b3704d0-c0dc-4650-b267-026ea045d23e",
   "metadata": {},
   "outputs": [
    {
     "name": "stdout",
     "output_type": "stream",
     "text": [
      "Overwriting ejercicio15.cpp\n"
     ]
    }
   ],
   "source": [
    "%%writefile ejercicio15.cpp\n",
    "\n",
    "#include <iostream>\n",
    "\n",
    "using namespace std;\n",
    "\n",
    "int main() {\n",
    "    // Solicitar al usuario la distancia en pies\n",
    "    double pies;\n",
    "    cout << \"Ingrese la distancia en pies: \";\n",
    "    cin >> pies;\n",
    "\n",
    "    // Convertir la distancia a pulgadas, yardas y millas\n",
    "    double pulgadas = pies * 12;\n",
    "    double yardas = pies / 3;\n",
    "    double millas = pies / 5280;\n",
    "\n",
    "    // Mostrar las conversiones\n",
    "    cout << \"La distancia en pulgadas es: \" << pulgadas << \" pulgadas.\" << endl;\n",
    "    cout << \"La distancia en yardas es: \" << yardas << \" yardas.\" << endl;\n",
    "    cout << \"La distancia en millas es: \" << millas << \" millas.\" << endl;\n",
    "\n",
    "    return 0;\n",
    "}\n"
   ]
  },
  {
   "cell_type": "code",
   "execution_count": 29,
   "id": "db721205-540b-424d-a818-afbf4f3d5871",
   "metadata": {},
   "outputs": [],
   "source": [
    "!g++ ejercicio15.cpp -o ejercicio15"
   ]
  },
  {
   "cell_type": "code",
   "execution_count": 31,
   "id": "d8df44e7-4af3-480e-b53f-d4540ee7c65d",
   "metadata": {},
   "outputs": [
    {
     "name": "stdout",
     "output_type": "stream",
     "text": [
      "Writing ejercicio16.cpp\n"
     ]
    }
   ],
   "source": [
    "%%writefile ejercicio16.cpp\n",
    "\n",
    "#include <iostream>\n",
    "#include <cmath> // Para usar pi y las funciones matemáticas\n",
    "\n",
    "using namespace std;\n",
    "\n",
    "int main() {\n",
    "    // Solicitar al usuario el radio\n",
    "    double r;\n",
    "    cout << \"Ingrese el radio: \";\n",
    "    cin >> r;\n",
    "\n",
    "    // Calcular el área del círculo\n",
    "    double area = M_PI * r * r;\n",
    "    // Calcular el volumen de la esfera\n",
    "    double volumen = (4.0 / 3.0) * M_PI * pow(r, 3);\n",
    "\n",
    "    // Mostrar los resultados\n",
    "    cout << \"El área del círculo es: \" << area << endl;\n",
    "    cout << \"El volumen de la esfera es: \" << volumen << endl;\n",
    "\n",
    "    return 0;\n",
    "}\n"
   ]
  },
  {
   "cell_type": "code",
   "execution_count": 32,
   "id": "9e740a25-6d9b-4442-be5d-17135a49cc16",
   "metadata": {},
   "outputs": [],
   "source": [
    "!g++ ejercicio16.cpp -o ejercicio16"
   ]
  },
  {
   "cell_type": "code",
   "execution_count": 33,
   "id": "b7b55de8-0259-4da8-8597-31036d400fc6",
   "metadata": {},
   "outputs": [
    {
     "name": "stdout",
     "output_type": "stream",
     "text": [
      "Writing ejercicio17.cpp\n"
     ]
    }
   ],
   "source": [
    "%%writefile ejercicio17.cpp\n",
    "\n",
    "#include <iostream>\n",
    "#include <iomanip> // Para formato con decimales\n",
    "\n",
    "using namespace std;\n",
    "\n",
    "int main() {\n",
    "    // Solicitar al usuario la masa del agua y el cambio de temperatura\n",
    "    double masa, deltaT;\n",
    "    cout << \"Ingrese la masa de agua en gramos: \";\n",
    "    cin >> masa;\n",
    "    cout << \"Ingrese el cambio de temperatura en grados Celsius: \";\n",
    "    cin >> deltaT;\n",
    "\n",
    "    // Calcular la energía en Julios\n",
    "    double energia = masa * 4.186 * deltaT;\n",
    "\n",
    "    // Convertir la energía a kWh (1 kWh = 3,600,000 J)\n",
    "    double energia_kWh = energia / 3600000.0;\n",
    "\n",
    "    // Calcular el costo de calentar el agua\n",
    "    double costo = energia_kWh * 0.085; // Costo por kWh\n",
    "\n",
    "    // Mostrar los resultados\n",
    "    cout << fixed << setprecision(2);\n",
    "    cout << \"La cantidad de energía necesaria es: \" << energia << \" Julios.\" << endl;\n",
    "    cout << \"El costo de calentar el agua es: $\" << costo << endl;\n",
    "\n",
    "    return 0;\n",
    "}\n"
   ]
  },
  {
   "cell_type": "code",
   "execution_count": 34,
   "id": "f72220e8-135c-4323-9d2d-36afdc3f7fce",
   "metadata": {},
   "outputs": [],
   "source": [
    "!g++ ejercicio17.cpp -o ejercicio17"
   ]
  },
  {
   "cell_type": "code",
   "execution_count": 35,
   "id": "24735aa1-316f-46f1-84b3-e851da06fc22",
   "metadata": {},
   "outputs": [
    {
     "name": "stdout",
     "output_type": "stream",
     "text": [
      "Writing ejercicio18.cpp\n"
     ]
    }
   ],
   "source": [
    "%%writefile ejercicio18.cpp\n",
    "#include <iostream>\n",
    "#include <cmath> // Para usar pi\n",
    "\n",
    "using namespace std;\n",
    "\n",
    "int main() {\n",
    "    // Solicitar al usuario el radio y la altura del cilindro\n",
    "    double radio, altura;\n",
    "    cout << \"Ingrese el radio del cilindro: \";\n",
    "    cin >> radio;\n",
    "    cout << \"Ingrese la altura del cilindro: \";\n",
    "    cin >> altura;\n",
    "\n",
    "    // Calcular el volumen del cilindro\n",
    "    double volumen = M_PI * pow(radio, 2) * altura;\n",
    "\n",
    "    // Mostrar el resultado redondeado a un decimal\n",
    "    cout << \"El volumen del cilindro es: \" << round(volumen * 10) / 10.0 << endl;\n",
    "\n",
    "    return 0;\n",
    "}\n"
   ]
  },
  {
   "cell_type": "code",
   "execution_count": 36,
   "id": "b84057d8-1227-457f-b1c4-81c1f798051d",
   "metadata": {},
   "outputs": [],
   "source": [
    "!g++ ejercicio18.cpp -o ejercicio18"
   ]
  },
  {
   "cell_type": "code",
   "execution_count": 37,
   "id": "cd5d9c54-145b-45f8-95bb-43ad1588ce2a",
   "metadata": {},
   "outputs": [
    {
     "name": "stdout",
     "output_type": "stream",
     "text": [
      "Writing ejercicio19.cpp\n"
     ]
    }
   ],
   "source": [
    "%%writefile ejercicio19.cpp\n",
    "\n",
    "#include <iostream>\n",
    "#include <cmath> // Para usar sqrt\n",
    "\n",
    "using namespace std;\n",
    "\n",
    "int main() {\n",
    "    // Solicitar al usuario la altura desde la que se deja caer el objeto\n",
    "    double altura;\n",
    "    cout << \"Ingrese la altura desde la que se deja caer el objeto (en metros): \";\n",
    "    cin >> altura;\n",
    "\n",
    "    // Calcular la velocidad final usando la fórmula de caída libre\n",
    "    double g = 9.8; // Aceleración de la gravedad en m/s²\n",
    "    double velocidad = sqrt(2 * g * altura);\n",
    "\n",
    "    // Mostrar la velocidad final\n",
    "    cout << \"La velocidad del objeto cuando golpea el suelo es: \" << velocidad << \" m/s.\" << endl;\n",
    "\n",
    "    return 0;\n",
    "}\n"
   ]
  },
  {
   "cell_type": "code",
   "execution_count": 38,
   "id": "ebb44fbb-0269-4c61-961c-8558e8b5581b",
   "metadata": {},
   "outputs": [],
   "source": [
    "!g++ ejercicio19.cpp -o ejercicio19"
   ]
  },
  {
   "cell_type": "code",
   "execution_count": 39,
   "id": "50f4a406-2ab4-45c0-8b36-79fb26a8cbfe",
   "metadata": {},
   "outputs": [
    {
     "name": "stdout",
     "output_type": "stream",
     "text": [
      "Writing ejercicio20.cpp\n"
     ]
    }
   ],
   "source": [
    "%%writefile ejercicio20.cpp\n",
    "\n",
    "#include <iostream>\n",
    "\n",
    "using namespace std;\n",
    "\n",
    "int main() {\n",
    "    // Solicitar al usuario la presión, el volumen y la temperatura\n",
    "    double P, V, T;\n",
    "    cout << \"Ingrese la presión (en Pascales): \";\n",
    "    cin >> P;\n",
    "    cout << \"Ingrese el volumen (en litros): \";\n",
    "    cin >> V;\n",
    "    cout << \"Ingrese la temperatura (en Kelvin): \";\n",
    "    cin >> T;\n",
    "\n",
    "    // La constante de los gases ideales en J/mol K\n",
    "    double R = 8.314;\n",
    "\n",
    "    // Calcular la cantidad de gas en moles\n",
    "    double n = (P * V) / (R * T);\n",
    "\n",
    "    // Mostrar el resultado\n",
    "    cout << \"La cantidad de gas en moles es: \" << n << \" moles.\" << endl;\n",
    "\n",
    "    return 0;\n",
    "}\n"
   ]
  },
  {
   "cell_type": "code",
   "execution_count": 40,
   "id": "961087a3-8857-48eb-9501-8a9ad6aa2eba",
   "metadata": {},
   "outputs": [],
   "source": [
    "!g++ ejercicio20.cpp -o ejercicio20"
   ]
  },
  {
   "cell_type": "code",
   "execution_count": null,
   "id": "5d875f16-e6a9-4a73-98f4-4f8d5e3d0f80",
   "metadata": {},
   "outputs": [],
   "source": []
  }
 ],
 "metadata": {
  "kernelspec": {
   "display_name": "Python 3 (ipykernel)",
   "language": "python",
   "name": "python3"
  },
  "language_info": {
   "codemirror_mode": {
    "name": "ipython",
    "version": 3
   },
   "file_extension": ".py",
   "mimetype": "text/x-python",
   "name": "python",
   "nbconvert_exporter": "python",
   "pygments_lexer": "ipython3",
   "version": "3.10.12"
  }
 },
 "nbformat": 4,
 "nbformat_minor": 5
}
